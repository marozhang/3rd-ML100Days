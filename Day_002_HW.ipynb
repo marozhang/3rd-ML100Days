{
  "nbformat": 4,
  "nbformat_minor": 0,
  "metadata": {
    "kernelspec": {
      "display_name": "Python 3",
      "language": "python",
      "name": "python3"
    },
    "language_info": {
      "codemirror_mode": {
        "name": "ipython",
        "version": 3
      },
      "file_extension": ".py",
      "mimetype": "text/x-python",
      "name": "python",
      "nbconvert_exporter": "python",
      "pygments_lexer": "ipython3",
      "version": "3.6.6"
    },
    "colab": {
      "name": "Day_002_HW.ipynb",
      "provenance": []
    }
  },
  "cells": [
    {
      "cell_type": "markdown",
      "metadata": {
        "id": "Bc7xhO653Ayd",
        "colab_type": "text"
      },
      "source": [
        "## [作業目標]\n",
        "了解機器學習適合應用的領域與範疇。"
      ]
    },
    {
      "cell_type": "markdown",
      "metadata": {
        "id": "MMhp36nw3Ayg",
        "colab_type": "text"
      },
      "source": [
        "## [作業重點]\n",
        "透過瞭解機器學習的運作方式，找出非常適用機器學習應用的領域及其原因"
      ]
    },
    {
      "cell_type": "markdown",
      "metadata": {
        "id": "Ok4Nbsay3Ayi",
        "colab_type": "text"
      },
      "source": [
        "## 作業\n",
        "請找出一個你認為機器學習可以發光發熱的領域並闡述原因? "
      ]
    },
    {
      "cell_type": "markdown",
      "metadata": {
        "id": "17cRhTr93hdH",
        "colab_type": "text"
      },
      "source": [
        "對於肺炎、腫瘤、身體內部病灶的早期發現，應該會是機器學習能夠有機會大展身手的的地方。\n",
        "\n",
        "匯入大量過往的CT、fMRI掃描影像，透過機器學習的自我學習辨識特徵及分類，可以幫助第一線醫護人員即時儘早發現，發炎、纖維化、異常組織增生、內出血等病灶。 \n",
        "\n",
        "特別是在同時間湧入大量病患的場合，將有助於減輕醫療負擔，加快檢驗速度。"
      ]
    }
  ]
}