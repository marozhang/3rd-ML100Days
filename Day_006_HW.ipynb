{
  "nbformat": 4,
  "nbformat_minor": 0,
  "metadata": {
    "colab": {
      "name": "Copy of Day_004_column_data_type.ipynb",
      "provenance": [],
      "include_colab_link": true
    },
    "kernelspec": {
      "display_name": "Python 3",
      "language": "python",
      "name": "python3"
    },
    "language_info": {
      "codemirror_mode": {
        "name": "ipython",
        "version": 3
      },
      "file_extension": ".py",
      "mimetype": "text/x-python",
      "name": "python",
      "nbconvert_exporter": "python",
      "pygments_lexer": "ipython3",
      "version": "3.7.2"
    }
  },
  "cells": [
    {
      "cell_type": "markdown",
      "metadata": {
        "id": "view-in-github",
        "colab_type": "text"
      },
      "source": [
        "<a href=\"https://colab.research.google.com/github/marozhang/3rd-ML100Days/blob/202005/Day_006_HW.ipynb\" target=\"_parent\"><img src=\"https://colab.research.google.com/assets/colab-badge.svg\" alt=\"Open In Colab\"/></a>"
      ]
    },
    {
      "cell_type": "markdown",
      "metadata": {
        "id": "XX65f604ZKM_",
        "colab_type": "text"
      },
      "source": [
        "# [作業目標]\n",
        "- 仿造範例的 One Hot Encoding, 將指定的資料進行編碼"
      ]
    },
    {
      "cell_type": "markdown",
      "metadata": {
        "id": "AkRyJ32gZKNB",
        "colab_type": "text"
      },
      "source": [
        "# [作業重點]\n",
        "- 將 sub_train 進行 One Hot Encoding 編碼 (In[4], Out[4])"
      ]
    },
    {
      "cell_type": "code",
      "metadata": {
        "colab_type": "code",
        "id": "lh9gyloHVblR",
        "colab": {}
      },
      "source": [
        "import os\n",
        "import numpy as np\n",
        "import pandas as pd"
      ],
      "execution_count": 0,
      "outputs": []
    },
    {
      "cell_type": "code",
      "metadata": {
        "colab_type": "code",
        "id": "z4iLB9cKVblV",
        "colab": {}
      },
      "source": [
        "# 設定 data_path, 並讀取 app_train\n",
        "dir_data = './data/'\n",
        "f_app_train = os.path.join(dir_data, 'application_train.csv')\n",
        "app_train = pd.read_csv(f_app_train)"
      ],
      "execution_count": 0,
      "outputs": []
    },
    {
      "cell_type": "code",
      "metadata": {
        "colab_type": "code",
        "id": "d5IeEcPVVblq",
        "colab": {}
      },
      "source": [
        "## 作業\n",
        "將下列部分資料片段 sub_train 使用 One Hot encoding, 並觀察轉換前後的欄位數量 (使用 shape) 與欄位名稱 (使用 head) 變化"
      ],
      "execution_count": 0,
      "outputs": []
    },
    {
      "cell_type": "code",
      "metadata": {
        "id": "eaKL5tVqZKNT",
        "colab_type": "code",
        "outputId": "c32c20b0-69d1-4cef-f16b-8594a22802e1",
        "colab": {}
      },
      "source": [
        "sub_train = pd.DataFrame(app_train['WEEKDAY_APPR_PROCESS_START'])\n",
        "print(sub_train.shape)\n",
        "sub_train.head()"
      ],
      "execution_count": 0,
      "outputs": [
        {
          "output_type": "stream",
          "text": [
            "(307511, 1)\n"
          ],
          "name": "stdout"
        },
        {
          "output_type": "execute_result",
          "data": {
            "text/html": [
              "<div>\n",
              "<style scoped>\n",
              "    .dataframe tbody tr th:only-of-type {\n",
              "        vertical-align: middle;\n",
              "    }\n",
              "\n",
              "    .dataframe tbody tr th {\n",
              "        vertical-align: top;\n",
              "    }\n",
              "\n",
              "    .dataframe thead th {\n",
              "        text-align: right;\n",
              "    }\n",
              "</style>\n",
              "<table border=\"1\" class=\"dataframe\">\n",
              "  <thead>\n",
              "    <tr style=\"text-align: right;\">\n",
              "      <th></th>\n",
              "      <th>WEEKDAY_APPR_PROCESS_START</th>\n",
              "    </tr>\n",
              "  </thead>\n",
              "  <tbody>\n",
              "    <tr>\n",
              "      <th>0</th>\n",
              "      <td>WEDNESDAY</td>\n",
              "    </tr>\n",
              "    <tr>\n",
              "      <th>1</th>\n",
              "      <td>MONDAY</td>\n",
              "    </tr>\n",
              "    <tr>\n",
              "      <th>2</th>\n",
              "      <td>MONDAY</td>\n",
              "    </tr>\n",
              "    <tr>\n",
              "      <th>3</th>\n",
              "      <td>WEDNESDAY</td>\n",
              "    </tr>\n",
              "    <tr>\n",
              "      <th>4</th>\n",
              "      <td>THURSDAY</td>\n",
              "    </tr>\n",
              "  </tbody>\n",
              "</table>\n",
              "</div>"
            ],
            "text/plain": [
              "  WEEKDAY_APPR_PROCESS_START\n",
              "0                  WEDNESDAY\n",
              "1                     MONDAY\n",
              "2                     MONDAY\n",
              "3                  WEDNESDAY\n",
              "4                   THURSDAY"
            ]
          },
          "metadata": {
            "tags": []
          },
          "execution_count": 3
        }
      ]
    },
    {
      "cell_type": "markdown",
      "metadata": {
        "id": "sID3LsYlZKNZ",
        "colab_type": "text"
      },
      "source": [
        "使用sklearn的OneHotEncoder功能"
      ]
    },
    {
      "cell_type": "code",
      "metadata": {
        "id": "9v_9lTJSZKNZ",
        "colab_type": "code",
        "colab": {}
      },
      "source": [
        "from sklearn.preprocessing import LabelEncoder\n",
        "labelencoder = LabelEncoder()\n",
        "sub_train[\"WEEKDAY_APPR_PROCESS_START\"] = labelencoder.fit_transform(sub_train[\"WEEKDAY_APPR_PROCESS_START\"])\n",
        "\n",
        "from sklearn.preprocessing import OneHotEncoder\n",
        "onehotencoder = OneHotEncoder(categorical_features = [0])\n",
        "sub_train1 = onehotencoder.fit_transform(sub_train).toarray()\n",
        "pd.DataFrame(sub_train1).shape"
      ],
      "execution_count": 0,
      "outputs": []
    },
    {
      "cell_type": "markdown",
      "metadata": {
        "id": "KHTaN0TEZKNd",
        "colab_type": "text"
      },
      "source": [
        "使用pandas的get_dummies功能"
      ]
    },
    {
      "cell_type": "code",
      "metadata": {
        "id": "lPa5qTQxZKNd",
        "colab_type": "code",
        "colab": {}
      },
      "source": [
        "sub_train2 = pd.get_dummies(sub_train)\n",
        "sub_train2.shape"
      ],
      "execution_count": 0,
      "outputs": []
    }
  ]
}