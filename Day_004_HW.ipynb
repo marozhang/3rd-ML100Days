{
  "nbformat": 4,
  "nbformat_minor": 0,
  "metadata": {
    "kernelspec": {
      "display_name": "Python 3",
      "language": "python",
      "name": "python3"
    },
    "language_info": {
      "codemirror_mode": {
        "name": "ipython",
        "version": 3
      },
      "file_extension": ".py",
      "mimetype": "text/x-python",
      "name": "python",
      "nbconvert_exporter": "python",
      "pygments_lexer": "ipython3",
      "version": "3.7.2"
    },
    "colab": {
      "name": "Copy of Day_004_HW.ipynb",
      "provenance": [],
      "include_colab_link": true
    }
  },
  "cells": [
    {
      "cell_type": "markdown",
      "metadata": {
        "id": "view-in-github",
        "colab_type": "text"
      },
      "source": [
        "<a href=\"https://colab.research.google.com/github/marozhang/3rd-ML100Days/blob/202005/Day_004_HW.ipynb\" target=\"_parent\"><img src=\"https://colab.research.google.com/assets/colab-badge.svg\" alt=\"Open In Colab\"/></a>"
      ]
    },
    {
      "cell_type": "markdown",
      "metadata": {
        "id": "q-pVVjmnO8CJ",
        "colab_type": "text"
      },
      "source": [
        "## 練習時間\n",
        "資料的操作有很多，接下來的馬拉松中我們會介紹常被使用到的操作，參加者不妨先自行想像一下，第一次看到資料，我們一般會想知道什麼訊息？\n",
        "\n",
        "#### Ex: 如何知道資料的 row 數以及 column 數、有什麼欄位、多少欄位、如何截取部分的資料等等\n",
        "\n",
        "有了對資料的好奇之後，我們又怎麼通過程式碼來達成我們的目的呢？\n",
        "\n",
        "#### 可參考該[基礎教材](https://bookdata.readthedocs.io/en/latest/base/01_pandas.html#DataFrame-%E5%85%A5%E9%97%A8)或自行 google"
      ]
    },
    {
      "cell_type": "markdown",
      "metadata": {
        "id": "iaZNM16hO8CL",
        "colab_type": "text"
      },
      "source": [
        "# [作業目標]\n",
        "- 熟悉更多的 Python 資料操作"
      ]
    },
    {
      "cell_type": "markdown",
      "metadata": {
        "id": "j2kAr867O8CN",
        "colab_type": "text"
      },
      "source": [
        "# [作業重點]\n",
        "- 列出資料的大小 (In[4], Hint : shape)\n",
        "- 列出所有欄位 (In[5], 有多種寫法)\n",
        "- 擷取部分資料 (In[6], Hint : loc 或 iloc)"
      ]
    },
    {
      "cell_type": "code",
      "metadata": {
        "id": "d3BjfJJcO8CO",
        "colab_type": "code",
        "colab": {}
      },
      "source": [
        "import os\n",
        "import numpy as np\n",
        "import pandas as pd"
      ],
      "execution_count": 0,
      "outputs": []
    },
    {
      "cell_type": "code",
      "metadata": {
        "id": "frcRLdUEO8CX",
        "colab_type": "code",
        "colab": {}
      },
      "source": [
        "# 設定 data_path\n",
        "dir_data = './data/'"
      ],
      "execution_count": 0,
      "outputs": []
    },
    {
      "cell_type": "code",
      "metadata": {
        "id": "PlE68t86O8Cc",
        "colab_type": "code",
        "colab": {}
      },
      "source": [
        "f_app = os.path.join(dir_data, 'application_train.csv')\n",
        "print('Path of read in data: %s' % (f_app))\n",
        "app_train = pd.read_csv(f_app)"
      ],
      "execution_count": 0,
      "outputs": []
    },
    {
      "cell_type": "markdown",
      "metadata": {
        "id": "gRqyBm9xO8Ch",
        "colab_type": "text"
      },
      "source": [
        "### 如果沒有想法，可以先嘗試找出剛剛例子中提到的問題的答案\n",
        "#### 資料的 row 數以及 column 數"
      ]
    },
    {
      "cell_type": "code",
      "metadata": {
        "id": "4hvE3DGNO8Ci",
        "colab_type": "code",
        "colab": {}
      },
      "source": [
        "app_train.shape"
      ],
      "execution_count": 0,
      "outputs": []
    },
    {
      "cell_type": "markdown",
      "metadata": {
        "id": "9VxySQUfO8Cl",
        "colab_type": "text"
      },
      "source": [
        "#### 列出所有欄位"
      ]
    },
    {
      "cell_type": "code",
      "metadata": {
        "id": "rA7CXVwXO8Cm",
        "colab_type": "code",
        "colab": {}
      },
      "source": [
        "app_train.columns"
      ],
      "execution_count": 0,
      "outputs": []
    },
    {
      "cell_type": "markdown",
      "metadata": {
        "id": "lODCdtMDO8Cp",
        "colab_type": "text"
      },
      "source": [
        "#### 截取部分資料"
      ]
    },
    {
      "cell_type": "code",
      "metadata": {
        "id": "cloyHbj5O8Cp",
        "colab_type": "code",
        "colab": {}
      },
      "source": [
        "app_train.head()\n",
        "app_train.loc[[0, 1, 2], [\"SK_ID_CURR\", \"TARGET\"]]\n",
        "app_train.iloc[:5, :5]"
      ],
      "execution_count": 0,
      "outputs": []
    },
    {
      "cell_type": "markdown",
      "metadata": {
        "id": "ugq1Zw68O8Cr",
        "colab_type": "text"
      },
      "source": [
        "#### 還有各種數之不盡的資料操作，重點還是取決於實務中遇到的狀況和你想問的問題，在馬拉松中我們也會陸續提到更多例子"
      ]
    },
    {
      "cell_type": "code",
      "metadata": {
        "id": "kx0NWs-SO8Cs",
        "colab_type": "code",
        "colab": {}
      },
      "source": [
        ""
      ],
      "execution_count": 0,
      "outputs": []
    }
  ]
}